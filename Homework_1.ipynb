{
  "nbformat": 4,
  "nbformat_minor": 0,
  "metadata": {
    "colab": {
      "name": "Homework#1.ipynb",
      "provenance": [],
      "collapsed_sections": [],
      "authorship_tag": "ABX9TyP1KYTwnPUVT637x+CcRF/o",
      "include_colab_link": true
    },
    "kernelspec": {
      "name": "python3",
      "display_name": "Python 3"
    },
    "language_info": {
      "name": "python"
    }
  },
  "cells": [
    {
      "cell_type": "markdown",
      "metadata": {
        "id": "view-in-github",
        "colab_type": "text"
      },
      "source": [
        "<a href=\"https://colab.research.google.com/github/wlachape/MAT-421/blob/main/Homework_1.ipynb\" target=\"_parent\"><img src=\"https://colab.research.google.com/assets/colab-badge.svg\" alt=\"Open In Colab\"/></a>"
      ]
    },
    {
      "cell_type": "markdown",
      "source": [
        "Homework 1"
      ],
      "metadata": {
        "id": "MlzahqSkmf6O"
      }
    },
    {
      "cell_type": "markdown",
      "source": [
        "Going from 17(base10) to binary"
      ],
      "metadata": {
        "id": "O7KLxn2Zmkun"
      }
    },
    {
      "cell_type": "code",
      "source": [
        "def decToBi(value):\n",
        "  return bin(value).replace(\"0b\", \"\")\n",
        "\n",
        "if __name__ == '__main__':\n",
        "  dec1 = decToBi(17)\n",
        "\n",
        "print(dec1)"
      ],
      "metadata": {
        "colab": {
          "base_uri": "https://localhost:8080/"
        },
        "id": "rgaa8xTEaOGK",
        "outputId": "566c2d6e-3813-414d-8130-3cbb77f64cb4"
      },
      "execution_count": 27,
      "outputs": [
        {
          "output_type": "stream",
          "name": "stdout",
          "text": [
            "10001\n"
          ]
        }
      ]
    },
    {
      "cell_type": "markdown",
      "source": [
        "Adding two binary numbers"
      ],
      "metadata": {
        "id": "wzhiXOaTsvbC"
      }
    },
    {
      "cell_type": "code",
      "source": [
        "def decToBi(value):\n",
        "  return bin(value).replace(\"0b\", \"\")\n",
        "\n",
        "if __name__ == '__main__':\n",
        "  dec1 = decToBi(64)\n",
        "  dec2 = decToBi(67)\n",
        "\n",
        "sum = bin(int(dec1, 2) + int(dec2, 2))\n",
        "\n",
        "print(sum[2:])"
      ],
      "metadata": {
        "colab": {
          "base_uri": "https://localhost:8080/"
        },
        "id": "Sys4Sv4ks4BV",
        "outputId": "5ce04912-e977-49ff-e3bc-22666d5101c8"
      },
      "execution_count": 37,
      "outputs": [
        {
          "output_type": "stream",
          "name": "stdout",
          "text": [
            "10000011\n"
          ]
        }
      ]
    },
    {
      "cell_type": "markdown",
      "source": [
        "Multiplying two binary numbers"
      ],
      "metadata": {
        "id": "48_1okmDyxLb"
      }
    },
    {
      "cell_type": "code",
      "source": [
        "def decToBi(value):\n",
        "  return bin(value).replace(\"0b\", \"\")\n",
        "\n",
        "if __name__ == '__main__':\n",
        "  dec1 = decToBi(42)\n",
        "  dec2 = decToBi(88)\n",
        "\n",
        "Mult = bin(int(dec1, 2) * int(dec2, 2))\n",
        "\n",
        "print(Mult[2:])"
      ],
      "metadata": {
        "colab": {
          "base_uri": "https://localhost:8080/"
        },
        "id": "G5e6X3UXzG6_",
        "outputId": "2241dc89-67ca-463a-cf6d-61090ff819a6"
      },
      "execution_count": 38,
      "outputs": [
        {
          "output_type": "stream",
          "name": "stdout",
          "text": [
            "111001110000\n"
          ]
        }
      ]
    },
    {
      "cell_type": "markdown",
      "source": [
        "Convert Binary To Float"
      ],
      "metadata": {
        "id": "vBeelwmq0Pcd"
      }
    },
    {
      "cell_type": "code",
      "source": [
        "def decToBi(value):\n",
        "  return bin(value).replace(\"0b\", \"\")\n",
        "\n",
        "if __name__ == '__main__':\n",
        "  dec1 = decToBi(0)\n",
        "  dec2 = decToBi(1207)\n",
        "  dec3 = decToBi(248200000000000000)\n",
        "\n",
        "print(dec1)\n",
        "print(dec2)\n",
        "print(dec3)"
      ],
      "metadata": {
        "colab": {
          "base_uri": "https://localhost:8080/"
        },
        "id": "Uu7ImK7ytg7l",
        "outputId": "0f803e90-0845-4ec6-a9e0-a3d7b3e36754"
      },
      "execution_count": 1,
      "outputs": [
        {
          "output_type": "stream",
          "name": "stdout",
          "text": [
            "0\n",
            "10010110111\n",
            "1101110001110010001001010111000001010000001000000000000000\n"
          ]
        }
      ]
    },
    {
      "cell_type": "markdown",
      "source": [
        "Converting Float to Binary"
      ],
      "metadata": {
        "id": "owTLmjDkvM6w"
      }
    },
    {
      "cell_type": "code",
      "source": [
        "## Convert 17.0 to binary\n",
        "x = 2\n",
        "value = 17\n",
        "y = 0\n",
        "if value > 0:\n",
        "  s = 0\n",
        "if value < 0:\n",
        "  s = -1\n",
        "\n",
        "while x < value:\n",
        "  x = x * 2\n",
        "  y = y + 1\n",
        "\n",
        "exponent = 4 + 1023\n",
        "\n",
        "x = x/2\n",
        "\n",
        "fraction = value / x\n",
        "\n",
        "final_frac = fraction - 1\n",
        "\n",
        "def decToBi(value):\n",
        "  return bin(value).replace(\"0b\", \"\")\n",
        "\n",
        "if __name__ == '__main__':\n",
        "  dec = decToBi(s)\n",
        "\n",
        "print(dec)\n",
        "\n",
        "def decToBi(value):\n",
        "  return bin(value).replace(\"0b\", \"\")\n",
        "\n",
        "if __name__ == '__main__':\n",
        "  dec1 = decToBi(exponent)\n",
        "\n",
        "print(dec1)\n",
        "\n",
        "dec2 = (\"0001000000000000000000000000000000000000000000000000\")\n",
        "print(dec2)"
      ],
      "metadata": {
        "colab": {
          "base_uri": "https://localhost:8080/"
        },
        "id": "RtwDlRK7vMa_",
        "outputId": "6cec2fbd-6d84-41df-bdf2-59a8456b1a41"
      },
      "execution_count": 25,
      "outputs": [
        {
          "output_type": "stream",
          "name": "stdout",
          "text": [
            "0\n",
            "10000000011\n",
            "0001000000000000000000000000000000000000000000000000\n"
          ]
        }
      ]
    },
    {
      "cell_type": "markdown",
      "source": [
        "Round-Off Error Example"
      ],
      "metadata": {
        "id": "Hmrdc5LB4L7o"
      }
    },
    {
      "cell_type": "code",
      "source": [
        "##same equations with different decimal places leads to different rounding\n",
        "x = 17 * 1.2 * 6 / 1\n",
        "\n",
        "y = 17 * 12 * 6 / 10\n",
        "\n",
        "x == y"
      ],
      "metadata": {
        "colab": {
          "base_uri": "https://localhost:8080/"
        },
        "id": "P7-CQ4E84Orw",
        "outputId": "808edf04-b966-4919-87af-c6200f6dd690"
      },
      "execution_count": 30,
      "outputs": [
        {
          "output_type": "execute_result",
          "data": {
            "text/plain": [
              "False"
            ]
          },
          "metadata": {},
          "execution_count": 30
        }
      ]
    }
  ]
}