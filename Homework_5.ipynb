{
  "nbformat": 4,
  "nbformat_minor": 0,
  "metadata": {
    "colab": {
      "name": "Homework_5.ipynb",
      "provenance": [],
      "authorship_tag": "ABX9TyPytsXUO5HWgy8bxU6JDqa7",
      "include_colab_link": true
    },
    "kernelspec": {
      "name": "python3",
      "display_name": "Python 3"
    },
    "language_info": {
      "name": "python"
    }
  },
  "cells": [
    {
      "cell_type": "markdown",
      "metadata": {
        "id": "view-in-github",
        "colab_type": "text"
      },
      "source": [
        "<a href=\"https://colab.research.google.com/github/wlachape/MAT-421/blob/main/Homework_5.ipynb\" target=\"_parent\"><img src=\"https://colab.research.google.com/assets/colab-badge.svg\" alt=\"Open In Colab\"/></a>"
      ]
    },
    {
      "cell_type": "markdown",
      "source": [
        "Homework 5"
      ],
      "metadata": {
        "id": "rg8uBUckWURF"
      }
    },
    {
      "cell_type": "markdown",
      "source": [
        "Using Matrix to Transform a Circle to Oval"
      ],
      "metadata": {
        "id": "D2UPe-oHguyh"
      }
    },
    {
      "cell_type": "code",
      "source": [
        "import numpy as np\n",
        "import matplotlib.pyplot as plt\n",
        "from matplotlib import colors\n",
        "import math as mt\n",
        "from numpy import linalg as LA\n",
        "from mpl_toolkits.mplot3d import Axes3D\n",
        "from sklearn.datasets import fetch_olivetti_faces\n",
        "%matplotlib inline\n",
        "\n",
        "# Creating the circle in figure 1 along with two vectors that will be used to show transformation\n",
        "x1 = np.linspace(-1.0, 1.0, 100)\n",
        "x2 = np.linspace(1.0, -1.0, 100)\n",
        "y1 = np.sqrt(1.0 - x1**2)\n",
        "y2 = -np.sqrt(1.0 - x2**2)\n",
        "\n",
        "xi = np.concatenate((x1, x2),axis=0)\n",
        "yi = np.concatenate((y1, y2),axis=0)\n",
        "x = np.vstack((xi, yi))\n",
        "\n",
        "# sizing and portioning the two vectors for the circle in fig1\n",
        "x_sample1 = x[:, 182]\n",
        "x_sample2 = x[:, 199]\n",
        "\n",
        "A = np.array([[1, 2],\n",
        "              [0, 1.5]]) \n",
        "\n",
        "t = A @ x  \n",
        "# sizing and portioning the two vectors for the oval in fig2\n",
        "t_sample1 = t[:, 182]\n",
        "t_sample2 = t[:, 199]\n",
        "fig, (fig1, fig2) = plt.subplots(1, 2, figsize=(10,15))\n",
        "\n",
        "plt.subplots_adjust(wspace=0.4)\n",
        "\n",
        "# create figure 1\n",
        "fig1.plot(x[0,:], x[1,:], color='b')\n",
        "fig1.quiver(*origin, x_sample1[0], x_sample1[1], color=['b'], width=0.012, angles='xy', scale_units='xy', scale=1)\n",
        "fig1.quiver(*origin, x_sample2[0], x_sample2[1], color=['r'], width=0.012, angles='xy', scale_units='xy', scale=1)\n",
        "fig1.set_xlabel('x', fontsize=14)\n",
        "fig1.set_ylabel('y', fontsize=14)\n",
        "fig1.set_xlim([-4,4])\n",
        "fig1.set_ylim([-4,4])\n",
        "fig1.set_aspect('equal')\n",
        "fig1.grid(True)\n",
        "fig1.set_axisbelow(True)\n",
        "fig1.set_title(\"Circle with 180 and 225 degree vectors\")\n",
        "fig1.axhline(y=0, color='k')\n",
        "fig1.axvline(x=0, color='k')\n",
        "fig1.text(-1.2, -1.1, \"$\\mathbf{x_1}$\", color='b', fontsize=17)\n",
        "fig1.text(-1.7, 0.2, \"$\\mathbf{x_2}$\", color='r', fontsize=17)\n",
        "\n",
        "# create figure 2\n",
        "fig2.plot(t[0, :], t[1, :], color='b')\n",
        "fig2.quiver(*origin, t_sample1[0], t_sample1[1], color=['b'], width=0.012, angles='xy', scale_units='xy', scale=1)\n",
        "fig2.quiver(*origin, t_sample2[0], t_sample2[1], color=['r'], width=0.012, angles='xy', scale_units='xy', scale=1)\n",
        "\n",
        "fig2.set_xlabel('x', fontsize=14)\n",
        "fig2.set_ylabel('y', fontsize=14)\n",
        "fig2.set_xlim([-4,4])\n",
        "fig2.set_ylim([-4,4])\n",
        "fig2.set_aspect('equal')\n",
        "fig2.grid(True)\n",
        "fig2.set_axisbelow(True)\n",
        "fig2.set_title(\"New vectors after circle becomes oval\")\n",
        "fig2.axhline(y=0, color='k')\n",
        "fig2.axvline(x=0, color='k')\n",
        "fig2.text(-2.75, -1.5, \"$\\mathbf{t_1}$\", color='b', fontsize=17)\n",
        "fig2.text(-1.6, 0.2, \"$\\mathbf{t_2}$\", color='r', fontsize=17)\n",
        "plt.savefig('2.png', dpi=300, bbox_inches='tight')\n",
        "\n",
        "plt.show()"
      ],
      "metadata": {
        "colab": {
          "base_uri": "https://localhost:8080/",
          "height": 314
        },
        "id": "Jfb1iv_qZmMi",
        "outputId": "1ab9499d-9162-4328-8fc3-f8c6f63d2d3a"
      },
      "execution_count": 69,
      "outputs": [
        {
          "output_type": "display_data",
          "data": {
            "image/png": "[encoded data removed]",
            "text/plain": [
              "<Figure size 720x1080 with 2 Axes>"
            ]
          },
          "metadata": {
            "needs_background": "light"
          }
        }
      ]
    },
    {
      "cell_type": "markdown",
      "source": [
        "Calculating and Plotting Eigenvectors"
      ],
      "metadata": {
        "id": "e9aTWrirg02z"
      }
    },
    {
      "cell_type": "code",
      "source": [
        "A = np.array([[1, 2],\n",
        "              [0, 1.5]]) \n",
        "lam, u = LA.eig(A)\n",
        "print(\"lam =\", np.round(lam, 4))\n",
        "print(\"u =\", np.round(u, 4))\n",
        "\n",
        "x1 = np.linspace(-1.0, 1.0, 100)\n",
        "x2 = np.linspace(1.0, -1.0, 100)\n",
        "y1 = np.sqrt(1.0 - x1**2)\n",
        "y2 = -np.sqrt(1.0 - x2**2)\n",
        "\n",
        "xi = np.concatenate((x1, x2),axis=0)\n",
        "yi = np.concatenate((y1, y2),axis=0)\n",
        "x = np.vstack((xi, yi))\n",
        "\n",
        "# sizing and portioning the two vectors for the circle in fig1\n",
        "u_sample1 = x[:, 182]\n",
        "u_sample2 = x[:, 199]\n",
        "\n",
        "A = np.array([[1, 2],\n",
        "              [0, 1.5]]) \n",
        "t = A @ x # Vectors in t are the transformed vectors of x\n",
        "t_sample1 = t[:, 182]\n",
        "t_sample2 = t[:, 199]\n",
        "fig, (ax1, ax2) = plt.subplots(1, 2, figsize=(10,15))\n",
        "plt.subplots_adjust(wspace=0.4)\n",
        "# Plotting x\n",
        "ax1.plot(x[0,:], x[1,:], color='b')\n",
        "ax1.quiver(*origin, u_sample1[0], u_sample1[1], color=['b'], width=0.012, angles='xy', scale_units='xy', scale=1)\n",
        "ax1.quiver(*origin, u_sample2[0], u_sample2[1], color=['b'], width=0.012, angles='xy', scale_units='xy', scale=1)\n",
        "ax1.set_xlabel('x', fontsize=14)\n",
        "ax1.set_ylabel('y', fontsize=14)\n",
        "ax1.set_xlim([-4,4])\n",
        "ax1.set_ylim([-4,4])\n",
        "ax1.set_aspect('equal')\n",
        "ax1.grid(True)\n",
        "ax1.set_title(\"Original vectors\")\n",
        "ax1.axhline(y=0, color='k')\n",
        "ax1.axvline(x=0, color='k')\n",
        "ax1.text(-1.2, -1.1, \"$\\mathbf{u_1}$\", fontsize=17)\n",
        "ax1.text(-1.7, 0.2, \"$\\mathbf{u_2}$\", fontsize=17)\n",
        "ax1.text(-1, 1.5, \"$\\mathbf{x}$\", color='b', fontsize=14)\n",
        "# Plotting t\n",
        "ax2.plot(t[0, :], t[1, :], color='b')\n",
        "ax2.quiver(*origin, t_sample1[0], t_sample1[1], color=['b'], width=0.012, angles='xy', scale_units='xy', scale=1)\n",
        "ax2.quiver(*origin, t_sample2[0], t_sample2[1], color=['b'], width=0.012, angles='xy', scale_units='xy', scale=1)\n",
        "ax2.set_xlabel('x', fontsize=14)\n",
        "ax2.set_ylabel('y', fontsize=14)\n",
        "ax2.set_xlim([-4,4])\n",
        "ax2.set_ylim([-4,4])\n",
        "ax2.set_aspect('equal')\n",
        "ax2.grid(True)\n",
        "ax2.set_title(\"New vectors after transformation\")\n",
        "ax2.axhline(y=0, color='k')\n",
        "ax2.axvline(x=0, color='k')\n",
        "ax2.text(-2.75, -1.5, \"$\\mathbf{u_1}$\", fontsize=14)\n",
        "ax2.text(-1.6, 0.2, \"$\\mathbf{u_2}$\", fontsize=14)\n",
        "ax2.text(-1, 1.5, \"$\\mathbf{Ax}$\", color='b', fontsize=14)\n",
        "plt.show()\n"
      ],
      "metadata": {
        "colab": {
          "base_uri": "https://localhost:8080/",
          "height": 366
        },
        "id": "ptf-hJ4Ng97b",
        "outputId": "1ef9410d-829b-4382-bdff-f20c14e2db39"
      },
      "execution_count": 83,
      "outputs": [
        {
          "output_type": "stream",
          "name": "stdout",
          "text": [
            "lam = [1.  1.5]\n",
            "u = [[1.     0.9701]\n",
            " [0.     0.2425]]\n"
          ]
        },
        {
          "output_type": "display_data",
          "data": {
            "image/png": "[encoded data removed]",
            "text/plain": [
              "<Figure size 720x1080 with 2 Axes>"
            ]
          },
          "metadata": {
            "needs_background": "light"
          }
        }
      ]
    },
    {
      "cell_type": "markdown",
      "source": [
        "We can see that there are two eigenvectors, [1] and [0.9701] represented by two\n",
        "                                                \n",
        "eigenvalues 1 and 1.5 respectively.................[0]........[0.2425]"
      ],
      "metadata": {
        "id": "elnpWtvWkpgh"
      }
    },
    {
      "cell_type": "markdown",
      "source": [
        "Using Singular Value Decomposition to Factor our Matrix"
      ],
      "metadata": {
        "id": "1hJb59NDmHbr"
      }
    },
    {
      "cell_type": "code",
      "source": [
        "import numpy as np\n",
        "# Make a 3 x 3 matrix\n",
        "A = np.array([[17,6,32],[1,3,9],[2,21,21]])\n",
        "# Use singular value decomposition\n",
        "U, D, VT = np.linalg.svd(A)\n",
        "# Test\n",
        "A_remake = (U @ np.diag(D) @ VT)\n",
        "print(A_remake)"
      ],
      "metadata": {
        "colab": {
          "base_uri": "https://localhost:8080/"
        },
        "id": "EB5LZh4PmH9g",
        "outputId": "1365cbc0-9396-4714-9d45-78465746fd6e"
      },
      "execution_count": 86,
      "outputs": [
        {
          "output_type": "stream",
          "name": "stdout",
          "text": [
            "[[17.  6. 32.]\n",
            " [ 1.  3.  9.]\n",
            " [ 2. 21. 21.]]\n"
          ]
        }
      ]
    }
  ]
}