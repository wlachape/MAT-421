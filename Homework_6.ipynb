{
  "nbformat": 4,
  "nbformat_minor": 0,
  "metadata": {
    "colab": {
      "name": "Homework_6.ipynb",
      "provenance": [],
      "authorship_tag": "ABX9TyM45II+s8HPQ6THmP9KJsoY",
      "include_colab_link": true
    },
    "kernelspec": {
      "name": "python3",
      "display_name": "Python 3"
    },
    "language_info": {
      "name": "python"
    }
  },
  "cells": [
    {
      "cell_type": "markdown",
      "metadata": {
        "id": "view-in-github",
        "colab_type": "text"
      },
      "source": [
        "<a href=\"https://colab.research.google.com/github/wlachape/MAT-421/blob/main/Homework_6.ipynb\" target=\"_parent\"><img src=\"https://colab.research.google.com/assets/colab-badge.svg\" alt=\"Open In Colab\"/></a>"
      ]
    },
    {
      "cell_type": "markdown",
      "source": [
        "Homework 6"
      ],
      "metadata": {
        "id": "O10wYESnGyEZ"
      }
    },
    {
      "cell_type": "markdown",
      "source": [
        "Jacobian Matrix"
      ],
      "metadata": {
        "id": "5LZNYwrjG1zH"
      }
    },
    {
      "cell_type": "code",
      "source": [
        "from sympy import sin, cos, Matrix\n",
        "from sympy.abc import rho, phi\n",
        "\n",
        "X = Matrix([phi*cos(rho), phi*sin(rho), phi**2])\n",
        "Y = Matrix([rho, phi])\n",
        "\n",
        "X.jacobian(Y)"
      ],
      "metadata": {
        "colab": {
          "base_uri": "https://localhost:8080/",
          "height": 78
        },
        "id": "qBJmJPzPHxap",
        "outputId": "99345c00-c43a-4ce2-c550-99b7b581849a"
      },
      "execution_count": 9,
      "outputs": [
        {
          "output_type": "execute_result",
          "data": {
            "text/latex": "$\\displaystyle \\left[\\begin{matrix}- \\phi \\sin{\\left(\\rho \\right)} & \\cos{\\left(\\rho \\right)}\\\\\\phi \\cos{\\left(\\rho \\right)} & \\sin{\\left(\\rho \\right)}\\\\0 & 2 \\phi\\end{matrix}\\right]$",
            "text/plain": [
              "Matrix([\n",
              "[-phi*sin(rho), cos(rho)],\n",
              "[ phi*cos(rho), sin(rho)],\n",
              "[            0,    2*phi]])"
            ]
          },
          "metadata": {},
          "execution_count": 9
        }
      ]
    },
    {
      "cell_type": "markdown",
      "source": [
        "Differentiate 17x^6 - 2x^3 + 5"
      ],
      "metadata": {
        "id": "4RGK3QBNIRDj"
      }
    },
    {
      "cell_type": "code",
      "source": [
        "from sympy import *\n",
        "import numpy as np\n",
        "## Doing derivatives in python using diff\n",
        "x = Symbol('x')\n",
        "y = 17*x**6 - 2*x**3 + 5\n",
        "yprime = y.diff(x)\n",
        "yprime"
      ],
      "metadata": {
        "colab": {
          "base_uri": "https://localhost:8080/",
          "height": 38
        },
        "id": "_mbeeV27IRks",
        "outputId": "63b5b9f5-1f62-4862-f47f-5575fc7b9e40"
      },
      "execution_count": 11,
      "outputs": [
        {
          "output_type": "execute_result",
          "data": {
            "text/latex": "$\\displaystyle 102 x^{5} - 6 x^{2}$",
            "text/plain": [
              "102*x**5 - 6*x**2"
            ]
          },
          "metadata": {},
          "execution_count": 11
        }
      ]
    },
    {
      "cell_type": "markdown",
      "source": [
        "Taylor Series Using Loops"
      ],
      "metadata": {
        "id": "vs5bONQ8J4Af"
      }
    },
    {
      "cell_type": "code",
      "source": [
        "import math\n",
        "\n",
        "x = 6\n",
        "e_to_6 = 0\n",
        "for i in range(17):\n",
        "    e_to_6 += x**i/math.factorial(i)\n",
        "    \n",
        "print(e_to_6) ## print the result of our taylor series matrix\n",
        "print(math.exp(6)) ## Print the python function for e^6"
      ],
      "metadata": {
        "colab": {
          "base_uri": "https://localhost:8080/"
        },
        "id": "KER0dHAIJ3Ft",
        "outputId": "75200ebf-0893-4098-a56a-dc7e9e455f88"
      },
      "execution_count": 20,
      "outputs": [
        {
          "output_type": "stream",
          "name": "stdout",
          "text": [
            "403.35824289995713\n",
            "403.4287934927351\n"
          ]
        }
      ]
    },
    {
      "cell_type": "markdown",
      "source": [
        "Support Vector Machines"
      ],
      "metadata": {
        "id": "YT4rhyHILPCf"
      }
    },
    {
      "cell_type": "code",
      "source": [
        "%matplotlib inline\n",
        "import numpy as np\n",
        "import matplotlib.pyplot as plt\n",
        "from scipy import stats\n",
        "\n",
        "# use seaborn plotting defaults\n",
        "import seaborn as sns; sns.set()\n",
        "\n",
        "from sklearn.datasets import make_blobs\n",
        "X, y = make_blobs(n_samples=50, centers=2,\n",
        "                  random_state=0, cluster_std=0.60)\n",
        "plt.scatter(X[:, 0], X[:, 1], c=y, s=50, cmap='autumn');\n",
        "\n",
        "xfit = np.linspace(-2, 4)\n",
        "plt.scatter(X[:, 0], X[:, 1], c=y, s=50, cmap='autumn')\n",
        "plt.plot([-.2], [2.5], 'x', color='red', markeredgewidth=2, markersize=10)\n",
        "\n",
        "for m, b in [(1, 0.65), (0.5, 1.6), (-0.2, 2.9)]:\n",
        "    plt.plot(xfit, m * xfit + b, '-k')\n",
        "\n",
        "plt.xlim(-1, 3.5);"
      ],
      "metadata": {
        "colab": {
          "base_uri": "https://localhost:8080/",
          "height": 268
        },
        "id": "dlGjXIH3LPVi",
        "outputId": "e149eb85-8917-4a6b-89f2-98935ce48460"
      },
      "execution_count": 33,
      "outputs": [
        {
          "output_type": "display_data",
          "data": {
            "image/png": "[encoded data removed]",
            "text/plain": [
              "<Figure size 432x288 with 1 Axes>"
            ]
          },
          "metadata": {}
        }
      ]
    },
    {
      "cell_type": "markdown",
      "source": [
        "Artificial Neural Networks"
      ],
      "metadata": {
        "id": "b9cJ_u0YOiru"
      }
    },
    {
      "cell_type": "code",
      "source": [
        "import numpy as np\n",
        "import matplotlib.pyplot as plt \n",
        "\n",
        "# create an array we can use for our Neural Networks\n",
        "inputs = np.array([[0, 2, 0],\n",
        "                   [3, 1, 1],\n",
        "                   [2, 0, 5],\n",
        "                   [1, 0, 0],\n",
        "                   [1, 1, 17],\n",
        "                   [-3, 0, 1]])\n",
        "\n",
        "outputs = np.array([[0], [0], [0], [1], [1], [1]])\n",
        "\n",
        "# we create a class for the Neural Network with initialized variables that will allow us to show it on a graph\n",
        "class NeuralNetwork:\n",
        "\n",
        "    def __init__(mat, inputs, outputs):\n",
        "        mat.inputs  = inputs\n",
        "        mat.outputs = outputs\n",
        "        mat.weights = np.array([[.50], [.50], [.50]])\n",
        "        mat.error_history = []\n",
        "        mat.epoch_list = []\n",
        "\n",
        "    def sigmoid(mat, x, deriv=False):\n",
        "        if deriv == True:\n",
        "            return x * (1 - x)\n",
        "        return 1 / (1 + np.exp(-x))\n",
        "\n",
        "    def feed_forward(mat):\n",
        "        mat.hidden = mat.sigmoid(np.dot(mat.inputs, mat.weights))\n",
        "\n",
        "\n",
        "    def backpropagation(mat):\n",
        "        mat.error  = mat.outputs - mat.hidden\n",
        "        delta = mat.error * mat.sigmoid(mat.hidden, deriv=True)\n",
        "        mat.weights += np.dot(mat.inputs.T, delta)\n",
        "\n",
        "\n",
        "    def train(mat, epoch=20):\n",
        "        for epoch in range(epoch):\n",
        "\n",
        "            mat.feed_forward()\n",
        "\n",
        "            mat.backpropagation()    \n",
        "\n",
        "            mat.error_history.append(np.average(np.abs(mat.error)))\n",
        "            mat.epoch_list.append(epoch)\n",
        "\n",
        "                             \n",
        "    def predict(mat, new_input):\n",
        "        prediction = mat.sigmoid(np.dot(new_input, mat.weights))\n",
        "        return prediction\n",
        "\n",
        "# create and train the Neural Network\n",
        "NN = NeuralNetwork(inputs, outputs)\n",
        "NN.train()\n",
        "\n",
        "# test two examples                                  \n",
        "example = np.array([[3, 1, 1]])\n",
        "example_2 = np.array([[0, 2, 0]])\n",
        "\n",
        "# print to two predictions for the examples                \n",
        "print(NN.predict(example), ' - Correct: ', example[0][0])\n",
        "print(NN.predict(example_2), ' - Correct: ', example_2[0][0])\n",
        "\n",
        "# plot the graph\n",
        "plt.figure(figsize=(15,5))\n",
        "plt.plot(NN.epoch_list, NN.error_history)\n",
        "plt.xlabel('X')\n",
        "plt.ylabel('Y')\n",
        "plt.show()"
      ],
      "metadata": {
        "colab": {
          "base_uri": "https://localhost:8080/",
          "height": 374
        },
        "id": "E6VPUSgKOod0",
        "outputId": "b5c284c9-901a-4555-a099-8470ded8bdec"
      },
      "execution_count": 47,
      "outputs": [
        {
          "output_type": "stream",
          "name": "stdout",
          "text": [
            "[[0.22312305]]  - Correct:  3\n",
            "[[0.04763575]]  - Correct:  0\n"
          ]
        },
        {
          "output_type": "display_data",
          "data": {
            "image/png": "[encoded data removed]",
            "text/plain": [
              "<Figure size 1080x360 with 1 Axes>"
            ]
          },
          "metadata": {}
        }
      ]
    }
  ]
}