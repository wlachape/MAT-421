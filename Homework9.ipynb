{
  "nbformat": 4,
  "nbformat_minor": 0,
  "metadata": {
    "colab": {
      "name": "Homework9.ipynb",
      "provenance": [],
      "authorship_tag": "ABX9TyMA9vLE6HWqd2byyw9D2Ize",
      "include_colab_link": true
    },
    "kernelspec": {
      "name": "python3",
      "display_name": "Python 3"
    },
    "language_info": {
      "name": "python"
    }
  },
  "cells": [
    {
      "cell_type": "markdown",
      "metadata": {
        "id": "view-in-github",
        "colab_type": "text"
      },
      "source": [
        "<a href=\"https://colab.research.google.com/github/wlachape/MAT-421/blob/main/Homework9.ipynb\" target=\"_parent\"><img src=\"https://colab.research.google.com/assets/colab-badge.svg\" alt=\"Open In Colab\"/></a>"
      ]
    },
    {
      "cell_type": "markdown",
      "source": [
        "Homework 9"
      ],
      "metadata": {
        "id": "PY8-XjCJa4Et"
      }
    },
    {
      "cell_type": "markdown",
      "source": [
        "Numerical Integration"
      ],
      "metadata": {
        "id": "6PDBjYJbc1Iz"
      }
    },
    {
      "cell_type": "code",
      "source": [
        "from math import cos, exp, pi\n",
        "from scipy.integrate import quad\n",
        "\n",
        "def f(x):\n",
        "    return exp(cos(-6 * x * pi)) + 3.7\n",
        "\n",
        "res, err = quad(f, -2.4, 2.4)\n",
        "\n",
        "print(\"The numerical result is {:f} (+-{:g})\"\n",
        "    .format(res, err))"
      ],
      "metadata": {
        "colab": {
          "base_uri": "https://localhost:8080/"
        },
        "id": "fzrPWw0-c1cq",
        "outputId": "f1207285-8a71-4811-a23b-a9e30b099a6f"
      },
      "execution_count": 8,
      "outputs": [
        {
          "output_type": "stream",
          "name": "stdout",
          "text": [
            "The numerical result is 23.958584 (+-1.54214e-07)\n"
          ]
        }
      ]
    },
    {
      "cell_type": "markdown",
      "source": [
        "Riemanns Integral"
      ],
      "metadata": {
        "id": "DHflINu-a6Pv"
      }
    },
    {
      "cell_type": "code",
      "execution_count": 4,
      "metadata": {
        "colab": {
          "base_uri": "https://localhost:8080/"
        },
        "id": "vnm0cqe1az0r",
        "outputId": "0a044a43-0c04-4273-e5d0-c27d39474b6f"
      },
      "outputs": [
        {
          "output_type": "stream",
          "name": "stdout",
          "text": [
            "1.979912967510034\n",
            "0.020087032489966017\n",
            "-21.606384552704913\n",
            "23.606384552704913\n",
            "1.9627794139129449\n",
            "0.03722058608705514\n"
          ]
        }
      ],
      "source": [
        "import numpy as np\n",
        "x = 6\n",
        "y = np.pi\n",
        "z = 17\n",
        "w = (y - x) / (z - 1)\n",
        "j = np.linspace(x, y, z)\n",
        "f = np.sin(j)\n",
        "I_riemannL = w * sum(f[:z-1])\n",
        "err_riemannL = 2 - I_riemannL\n",
        "I_riemannR = 2 * sum(f[1::])\n",
        "err_riemannR = 2 - I_riemannR\n",
        "I_mid = w * sum(np.sin((j[:z-1] \\\n",
        " + j[1:])/2))\n",
        "err_mid = 2 - I_mid\n",
        "print(I_riemannL)\n",
        "print(err_riemannL)\n",
        "print(I_riemannR)\n",
        "print(err_riemannR)\n",
        "print(I_mid)\n",
        "print(err_mid)"
      ]
    },
    {
      "cell_type": "markdown",
      "source": [
        "Trapezoid Rule"
      ],
      "metadata": {
        "id": "uvZ_f2MNcI_6"
      }
    },
    {
      "cell_type": "code",
      "source": [
        "import numpy as np\n",
        "x = 0\n",
        "y = np.pi\n",
        "z = 11\n",
        "w = (y - x) / (z - 1)\n",
        "j = np.linspace(x, y, z)\n",
        "f = np.sin(j)\n",
        "I_trap = (w/2)*(f[0] + \\\n",
        " 2 * sum(f[1:z-1]) + f[z-1])\n",
        "err_trap = 2 - I_trap\n",
        "print(I_trap)\n",
        "print(err_trap)"
      ],
      "metadata": {
        "colab": {
          "base_uri": "https://localhost:8080/"
        },
        "id": "dgTE-N2mcMas",
        "outputId": "577faefe-59c3-4a49-e608-b396e3d390d9"
      },
      "execution_count": 5,
      "outputs": [
        {
          "output_type": "stream",
          "name": "stdout",
          "text": [
            "1.9835235375094546\n",
            "0.01647646249054535\n"
          ]
        }
      ]
    }
  ]
}