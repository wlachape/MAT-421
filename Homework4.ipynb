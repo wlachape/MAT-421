{
  "nbformat": 4,
  "nbformat_minor": 0,
  "metadata": {
    "colab": {
      "name": "Homework4.ipynb",
      "provenance": [],
      "authorship_tag": "ABX9TyPzqTFP6WCmftA6klrHarNo",
      "include_colab_link": true
    },
    "kernelspec": {
      "name": "python3",
      "display_name": "Python 3"
    },
    "language_info": {
      "name": "python"
    }
  },
  "cells": [
    {
      "cell_type": "markdown",
      "metadata": {
        "id": "view-in-github",
        "colab_type": "text"
      },
      "source": [
        "<a href=\"https://colab.research.google.com/github/wlachape/MAT-421/blob/main/Homework4.ipynb\" target=\"_parent\"><img src=\"https://colab.research.google.com/assets/colab-badge.svg\" alt=\"Open In Colab\"/></a>"
      ]
    },
    {
      "cell_type": "markdown",
      "source": [
        "Homework 4"
      ],
      "metadata": {
        "id": "Ylgvao4uVtCF"
      }
    },
    {
      "cell_type": "markdown",
      "source": [
        "Find The Root(s) Using fsolve"
      ],
      "metadata": {
        "id": "6VV2zNopVwyg"
      }
    },
    {
      "cell_type": "code",
      "execution_count": 5,
      "metadata": {
        "colab": {
          "base_uri": "https://localhost:8080/"
        },
        "id": "uMyT4X1PVmP9",
        "outputId": "250e1bd6-3dc7-40b3-c941-637b3982e754"
      },
      "outputs": [
        {
          "output_type": "stream",
          "name": "stdout",
          "text": [
            "r = [0.]\n",
            "result= [0.]\n",
            "The solution converged.\n"
          ]
        }
      ],
      "source": [
        "import numpy as np\n",
        "from scipy import optimize\n",
        "\n",
        "f = lambda x: (np.tan(x)/6) - 17*x\n",
        "r = optimize.fsolve(f, 1)\n",
        "print(\"r =\", r)\n",
        "\n",
        "# Test for any error message if root doesn't exist\n",
        "r, infodict, ier, mesg = optimize.fsolve(f, 1, full_output=True)\n",
        "\n",
        "# Make sure the answer comes out to 0\n",
        "result = f(r)\n",
        "print(\"result=\", result)\n",
        "\n",
        "# Display the details of the message\n",
        "print(mesg)"
      ]
    },
    {
      "cell_type": "markdown",
      "source": [
        "Root Finding Using Bisection Method"
      ],
      "metadata": {
        "id": "zXZZzl1sc4AU"
      }
    },
    {
      "cell_type": "code",
      "source": [
        "# make formula that we can test for roots\n",
        "f = lambda x: 2 * x**4 - 6\n",
        "\n",
        "# test for tolerance with two different tolerance levels\n",
        "higher_tol = my_bisection(f, 0, 6, 0.5)\n",
        "print(\"higher_tol =\", higher_tol)\n",
        "lower_tol = my_bisection(f, 0, 6, 0.05)\n",
        "print(\"lower_tol =\", lower_tol)\n",
        "\n",
        "# print the respective functions to see if they are close to the roots we anticipated\n",
        "print(\"f(higher_tol) =\", f(higher_tol))\n",
        "print(\"f(lower_tol) =\", f(lower_tol))"
      ],
      "metadata": {
        "colab": {
          "base_uri": "https://localhost:8080/"
        },
        "id": "ykRvmOEfgiW9",
        "outputId": "83860b41-fd11-4670-c61a-7701a0260cfa"
      },
      "execution_count": 54,
      "outputs": [
        {
          "output_type": "stream",
          "name": "stdout",
          "text": [
            "higher_tol = 1.3125\n",
            "lower_tol = 1.318359375\n",
            "f(higher_tol) = -0.064910888671875\n",
            "f(lower_tol) = 0.041784672561334446\n"
          ]
        }
      ]
    },
    {
      "cell_type": "markdown",
      "source": [
        "Root Finding Using Newton-Raphson Method"
      ],
      "metadata": {
        "id": "JZMdCnbwicao"
      }
    },
    {
      "cell_type": "code",
      "source": [
        "import numpy as np\n",
        "\n",
        "# create equation to manipulate and test\n",
        "f = lambda x: 2 * x**4 - 6\n",
        "# find derivative and use that to use the method\n",
        "f_prime = lambda x: 8 * x**3\n",
        "newton_raphson = 1.3 - (f(1.3))/(f_prime(1.3))\n",
        "# print the number calculated using the newton raphson method\n",
        "print(\"Using hand written formula we get:\", newton_raphson)\n",
        "\n",
        "# use the built in newton raphson formula within python to later estimate the true answer with more accuracy\n",
        "def my_newton(f, df, x0, tol):\n",
        "  if abs(f(x0)) < tol:\n",
        "    return x0\n",
        "  else:\n",
        "    return my_newton(f, df, x0 - f(x0)/df(x0), tol)\n",
        "\n",
        "answer_with_formula = my_newton(f, f_prime, 1.5, 1e-6)\n",
        "print(\"Using the python formula we get:  \", answer_with_formula)\n",
        "print(\"3^(1/4) =                         \", 3**(1/4))\n",
        "\n",
        "print(\"Looking at the numbers above we can see the python generated formula is a more accurate representation of the actual root than the handwritten formula.\")"
      ],
      "metadata": {
        "colab": {
          "base_uri": "https://localhost:8080/"
        },
        "id": "K--86SSyihjP",
        "outputId": "7d351d7b-77b9-4ab4-db10-a1591597e4b9"
      },
      "execution_count": 69,
      "outputs": [
        {
          "output_type": "stream",
          "name": "stdout",
          "text": [
            "Using hand written formula we get: 1.3163746017296314\n",
            "Using the python formula we get:   1.3160740129543826\n",
            "3^(1/4) =                          1.3160740129524924\n",
            "Looking at the numbers above we can see the python generated formula is a more accurate representation of the actual root than the handwritten formula.\n"
          ]
        }
      ]
    }
  ]
}