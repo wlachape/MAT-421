{
  "nbformat": 4,
  "nbformat_minor": 0,
  "metadata": {
    "colab": {
      "name": "Paper_Code.ipynb",
      "provenance": [],
      "authorship_tag": "ABX9TyObr7MCDU2SwxQHyiGFRS9+",
      "include_colab_link": true
    },
    "kernelspec": {
      "name": "python3",
      "display_name": "Python 3"
    },
    "language_info": {
      "name": "python"
    }
  },
  "cells": [
    {
      "cell_type": "markdown",
      "metadata": {
        "id": "view-in-github",
        "colab_type": "text"
      },
      "source": [
        "<a href=\"https://colab.research.google.com/github/wlachape/MAT-421/blob/main/Paper_Code.ipynb\" target=\"_parent\"><img src=\"https://colab.research.google.com/assets/colab-badge.svg\" alt=\"Open In Colab\"/></a>"
      ]
    },
    {
      "cell_type": "markdown",
      "source": [
        "Logistic Regression Model for Project Data"
      ],
      "metadata": {
        "id": "3XuoQmEx3vBK"
      }
    },
    {
      "cell_type": "code",
      "execution_count": 2,
      "metadata": {
        "colab": {
          "base_uri": "https://localhost:8080/",
          "height": 1000
        },
        "id": "XzbvXHN03rR7",
        "outputId": "782af10a-cb43-439e-c77d-ce14ad168dac"
      },
      "outputs": [
        {
          "output_type": "stream",
          "name": "stdout",
          "text": [
            "Intercept: \n",
            " 10391.982484273576\n",
            "Coefficients: \n",
            " [-2.72046454e+00  1.01510209e-04 -5.69998367e-04  4.50407314e-04\n",
            "  5.86044524e-03]\n",
            "Predicted Attendance: \n",
            " [-2383.33327257]\n",
            "                                  OLS Regression Results                                  \n",
            "==========================================================================================\n",
            "Dep. Variable:     Average_NHL_attendance_per_day   R-squared:                       0.610\n",
            "Model:                                        OLS   Adj. R-squared:                  0.606\n",
            "Method:                             Least Squares   F-statistic:                     135.6\n",
            "Date:                            Sat, 16 Apr 2022   Prob (F-statistic):           2.88e-86\n",
            "Time:                                    18:16:25   Log-Likelihood:                -4316.4\n",
            "No. Observations:                             439   AIC:                             8645.\n",
            "Df Residuals:                                 433   BIC:                             8669.\n",
            "Df Model:                                       5                                         \n",
            "Covariance Type:                        nonrobust                                         \n",
            "===========================================================================================\n",
            "                              coef    std err          t      P>|t|      [0.025      0.975]\n",
            "-------------------------------------------------------------------------------------------\n",
            "const                    1.039e+04    501.403     20.726      0.000    9406.496    1.14e+04\n",
            "deaths_avg                 -2.7205      0.298     -9.115      0.000      -3.307      -2.134\n",
            "total_vaccinations          0.0001   1.55e-05      6.535      0.000     7.1e-05       0.000\n",
            "people_vaccinated          -0.0006   9.03e-05     -6.311      0.000      -0.001      -0.000\n",
            "people_fully_vaccinated     0.0005   7.59e-05      5.933      0.000       0.000       0.001\n",
            "daily_people_vaccinated     0.0059      0.002      3.474      0.001       0.003       0.009\n",
            "==============================================================================\n",
            "Omnibus:                       15.826   Durbin-Watson:                   0.545\n",
            "Prob(Omnibus):                  0.000   Jarque-Bera (JB):               16.540\n",
            "Skew:                          -0.464   Prob(JB):                     0.000256\n",
            "Kurtosis:                       3.205   Cond. No.                     9.60e+08\n",
            "==============================================================================\n",
            "\n",
            "Warnings:\n",
            "[1] Standard Errors assume that the covariance matrix of the errors is correctly specified.\n",
            "[2] The condition number is large, 9.6e+08. This might indicate that there are\n",
            "strong multicollinearity or other numerical problems.\n"
          ]
        },
        {
          "output_type": "stream",
          "name": "stderr",
          "text": [
            "/usr/local/lib/python3.7/dist-packages/sklearn/base.py:451: UserWarning: X does not have valid feature names, but LinearRegression was fitted with feature names\n",
            "  \"X does not have valid feature names, but\"\n",
            "/usr/local/lib/python3.7/dist-packages/statsmodels/tsa/tsatools.py:117: FutureWarning: In a future version of pandas all arguments of concat except for the argument 'objs' will be keyword-only\n",
            "  x = pd.concat(x[::order], 1)\n",
            "/usr/local/lib/python3.7/dist-packages/sklearn/linear_model/_ridge.py:157: LinAlgWarning: Ill-conditioned matrix (rcond=3.28977e-20): result may not be accurate.\n",
            "  return linalg.solve(A, Xy, sym_pos=True, overwrite_a=True).T\n"
          ]
        },
        {
          "output_type": "display_data",
          "data": {
            "text/plain": [
              "<Figure size 432x288 with 2 Axes>"
            ],
            "image/png": "[encoded data removed]"
          },
          "metadata": {
            "needs_background": "light"
          }
        },
        {
          "output_type": "execute_result",
          "data": {
            "text/plain": [
              "<matplotlib.axes._subplots.AxesSubplot at 0x7efecd4e5e90>"
            ]
          },
          "metadata": {},
          "execution_count": 2
        }
      ],
      "source": [
        "import pandas as pd\n",
        "from sklearn import linear_model\n",
        "import statsmodels.api as sm\n",
        "from sklearn.linear_model import Ridge\n",
        "from sklearn.model_selection import train_test_split\n",
        "from yellowbrick.datasets import load_concrete\n",
        "from yellowbrick.regressor import ResidualsPlot\n",
        "\n",
        "\n",
        "df = pd.read_excel(\"MAT421_ProjectDataUse.xlsx\",\"Sheet3\")\n",
        "\n",
        "\n",
        "X = df[['deaths_avg','total_vaccinations','people_vaccinated','people_fully_vaccinated','daily_people_vaccinated']]\n",
        "y = df['Average_NHL_attendance_per_day']\n",
        "\n",
        "regr = linear_model.LinearRegression()\n",
        "regr.fit(X, y)\n",
        "\n",
        "print('Intercept: \\n', regr.intercept_)\n",
        "print('Coefficients: \\n', regr.coef_)\n",
        "\n",
        "# prediction with sklearn\n",
        "new_deaths_avg = 4890\n",
        "new_total_vaccinations = 7834\n",
        "new_people_vaccinated = 91462\n",
        "new_people_fully_vaccinated = 82466\n",
        "new_daily_people_vaccinated = 92476\n",
        "print ('Predicted Attendance: \\n', regr.predict([[new_deaths_avg,new_total_vaccinations,new_people_vaccinated,new_people_fully_vaccinated,new_daily_people_vaccinated]]))\n",
        "\n",
        "# with statsmodels\n",
        "X = sm.add_constant(X) # adding a constant\n",
        " \n",
        "model = sm.OLS(y, X).fit()\n",
        "predictions = model.predict(X) \n",
        " \n",
        "print_model = model.summary()\n",
        "print(print_model)\n",
        "\n",
        "X_train, X_test, y_train, y_test = train_test_split(X, y, test_size=0.2, random_state=42)\n",
        "model = Ridge()\n",
        "visualizer = ResidualsPlot(model, hist=False, qqplot=True)\n",
        "visualizer.fit(X_train, y_train)  # Fit the training data to the visualizer\n",
        "visualizer.score(X_test, y_test)  # Evaluate the model on the test data\n",
        "visualizer.show() "
      ]
    },
    {
      "cell_type": "code",
      "source": [
        "\n",
        "!apt-get install -y xvfb \n",
        "import os\n",
        "os.system('Xvfb :1 -screen 0 1600x1200x16  &')    \n",
        "os.environ['DISPLAY']=':1.0'    \n",
        "!apt install ghostscript python3-tk\n",
        "chunked_sentence = '(S (NP this tree) (VP (V is) (AdjP pretty)))'\n",
        "from nltk.tree import Tree\n",
        "from IPython.display import display\n",
        "tree = Tree.fromstring(str(chunked_sentence))"
      ],
      "metadata": {
        "colab": {
          "base_uri": "https://localhost:8080/"
        },
        "id": "1xsIO5kDEmH3",
        "outputId": "dba89a48-38fd-46db-e946-f81a2ef9f98e"
      },
      "execution_count": 3,
      "outputs": [
        {
          "output_type": "stream",
          "name": "stdout",
          "text": [
            "Reading package lists... Done\n",
            "Building dependency tree       \n",
            "Reading state information... Done\n",
            "The following NEW packages will be installed:\n",
            "  xvfb\n",
            "0 upgraded, 1 newly installed, 0 to remove and 39 not upgraded.\n",
            "Need to get 784 kB of archives.\n",
            "After this operation, 2,271 kB of additional disk space will be used.\n",
            "Get:1 http://archive.ubuntu.com/ubuntu bionic-updates/universe amd64 xvfb amd64 2:1.19.6-1ubuntu4.10 [784 kB]\n",
            "Fetched 784 kB in 0s (8,289 kB/s)\n",
            "Selecting previously unselected package xvfb.\n",
            "(Reading database ... 155455 files and directories currently installed.)\n",
            "Preparing to unpack .../xvfb_2%3a1.19.6-1ubuntu4.10_amd64.deb ...\n",
            "Unpacking xvfb (2:1.19.6-1ubuntu4.10) ...\n",
            "Setting up xvfb (2:1.19.6-1ubuntu4.10) ...\n",
            "Processing triggers for man-db (2.8.3-2ubuntu0.1) ...\n",
            "Reading package lists... Done\n",
            "Building dependency tree       \n",
            "Reading state information... Done\n",
            "python3-tk is already the newest version (3.6.9-1~18.04).\n",
            "The following additional packages will be installed:\n",
            "  fonts-droid-fallback fonts-noto-mono gsfonts libcupsfilters1 libcupsimage2\n",
            "  libgs9 libgs9-common libijs-0.35 libjbig2dec0 poppler-data\n",
            "Suggested packages:\n",
            "  fonts-noto ghostscript-x poppler-utils fonts-japanese-mincho\n",
            "  | fonts-ipafont-mincho fonts-japanese-gothic | fonts-ipafont-gothic\n",
            "  fonts-arphic-ukai fonts-arphic-uming fonts-nanum\n",
            "The following NEW packages will be installed:\n",
            "  fonts-droid-fallback fonts-noto-mono ghostscript gsfonts libcupsfilters1\n",
            "  libcupsimage2 libgs9 libgs9-common libijs-0.35 libjbig2dec0 poppler-data\n",
            "0 upgraded, 11 newly installed, 0 to remove and 39 not upgraded.\n",
            "Need to get 14.1 MB of archives.\n",
            "After this operation, 49.9 MB of additional disk space will be used.\n",
            "Get:1 http://archive.ubuntu.com/ubuntu bionic/main amd64 fonts-droid-fallback all 1:6.0.1r16-1.1 [1,805 kB]\n",
            "Get:2 http://archive.ubuntu.com/ubuntu bionic/main amd64 poppler-data all 0.4.8-2 [1,479 kB]\n",
            "Get:3 http://archive.ubuntu.com/ubuntu bionic/main amd64 fonts-noto-mono all 20171026-2 [75.5 kB]\n",
            "Get:4 http://archive.ubuntu.com/ubuntu bionic-updates/main amd64 libcupsimage2 amd64 2.2.7-1ubuntu2.8 [18.6 kB]\n",
            "Get:5 http://archive.ubuntu.com/ubuntu bionic/main amd64 libijs-0.35 amd64 0.35-13 [15.5 kB]\n",
            "Get:6 http://archive.ubuntu.com/ubuntu bionic/main amd64 libjbig2dec0 amd64 0.13-6 [55.9 kB]\n",
            "Get:7 http://archive.ubuntu.com/ubuntu bionic-updates/main amd64 libgs9-common all 9.26~dfsg+0-0ubuntu0.18.04.15 [5,092 kB]\n",
            "Get:8 http://archive.ubuntu.com/ubuntu bionic-updates/main amd64 libgs9 amd64 9.26~dfsg+0-0ubuntu0.18.04.15 [2,265 kB]\n",
            "Get:9 http://archive.ubuntu.com/ubuntu bionic-updates/main amd64 ghostscript amd64 9.26~dfsg+0-0ubuntu0.18.04.15 [51.4 kB]\n",
            "Get:10 http://archive.ubuntu.com/ubuntu bionic/main amd64 gsfonts all 1:8.11+urwcyr1.0.7~pre44-4.4 [3,120 kB]\n",
            "Get:11 http://archive.ubuntu.com/ubuntu bionic-updates/main amd64 libcupsfilters1 amd64 1.20.2-0ubuntu3.1 [108 kB]\n",
            "Fetched 14.1 MB in 1s (9,497 kB/s)\n",
            "Selecting previously unselected package fonts-droid-fallback.\n",
            "(Reading database ... 155462 files and directories currently installed.)\n",
            "Preparing to unpack .../00-fonts-droid-fallback_1%3a6.0.1r16-1.1_all.deb ...\n",
            "Unpacking fonts-droid-fallback (1:6.0.1r16-1.1) ...\n",
            "Selecting previously unselected package poppler-data.\n",
            "Preparing to unpack .../01-poppler-data_0.4.8-2_all.deb ...\n",
            "Unpacking poppler-data (0.4.8-2) ...\n",
            "Selecting previously unselected package fonts-noto-mono.\n",
            "Preparing to unpack .../02-fonts-noto-mono_20171026-2_all.deb ...\n",
            "Unpacking fonts-noto-mono (20171026-2) ...\n",
            "Selecting previously unselected package libcupsimage2:amd64.\n",
            "Preparing to unpack .../03-libcupsimage2_2.2.7-1ubuntu2.8_amd64.deb ...\n",
            "Unpacking libcupsimage2:amd64 (2.2.7-1ubuntu2.8) ...\n",
            "Selecting previously unselected package libijs-0.35:amd64.\n",
            "Preparing to unpack .../04-libijs-0.35_0.35-13_amd64.deb ...\n",
            "Unpacking libijs-0.35:amd64 (0.35-13) ...\n",
            "Selecting previously unselected package libjbig2dec0:amd64.\n",
            "Preparing to unpack .../05-libjbig2dec0_0.13-6_amd64.deb ...\n",
            "Unpacking libjbig2dec0:amd64 (0.13-6) ...\n",
            "Selecting previously unselected package libgs9-common.\n",
            "Preparing to unpack .../06-libgs9-common_9.26~dfsg+0-0ubuntu0.18.04.15_all.deb ...\n",
            "Unpacking libgs9-common (9.26~dfsg+0-0ubuntu0.18.04.15) ...\n",
            "Selecting previously unselected package libgs9:amd64.\n",
            "Preparing to unpack .../07-libgs9_9.26~dfsg+0-0ubuntu0.18.04.15_amd64.deb ...\n",
            "Unpacking libgs9:amd64 (9.26~dfsg+0-0ubuntu0.18.04.15) ...\n",
            "Selecting previously unselected package ghostscript.\n",
            "Preparing to unpack .../08-ghostscript_9.26~dfsg+0-0ubuntu0.18.04.15_amd64.deb ...\n",
            "Unpacking ghostscript (9.26~dfsg+0-0ubuntu0.18.04.15) ...\n",
            "Selecting previously unselected package gsfonts.\n",
            "Preparing to unpack .../09-gsfonts_1%3a8.11+urwcyr1.0.7~pre44-4.4_all.deb ...\n",
            "Unpacking gsfonts (1:8.11+urwcyr1.0.7~pre44-4.4) ...\n",
            "Selecting previously unselected package libcupsfilters1:amd64.\n",
            "Preparing to unpack .../10-libcupsfilters1_1.20.2-0ubuntu3.1_amd64.deb ...\n",
            "Unpacking libcupsfilters1:amd64 (1.20.2-0ubuntu3.1) ...\n",
            "Setting up libgs9-common (9.26~dfsg+0-0ubuntu0.18.04.15) ...\n",
            "Setting up fonts-droid-fallback (1:6.0.1r16-1.1) ...\n",
            "Setting up gsfonts (1:8.11+urwcyr1.0.7~pre44-4.4) ...\n",
            "Setting up poppler-data (0.4.8-2) ...\n",
            "Setting up fonts-noto-mono (20171026-2) ...\n",
            "Setting up libcupsfilters1:amd64 (1.20.2-0ubuntu3.1) ...\n",
            "Setting up libcupsimage2:amd64 (2.2.7-1ubuntu2.8) ...\n",
            "Setting up libjbig2dec0:amd64 (0.13-6) ...\n",
            "Setting up libijs-0.35:amd64 (0.35-13) ...\n",
            "Setting up libgs9:amd64 (9.26~dfsg+0-0ubuntu0.18.04.15) ...\n",
            "Setting up ghostscript (9.26~dfsg+0-0ubuntu0.18.04.15) ...\n",
            "Processing triggers for man-db (2.8.3-2ubuntu0.1) ...\n",
            "Processing triggers for fontconfig (2.12.6-0ubuntu2) ...\n",
            "Processing triggers for libc-bin (2.27-3ubuntu1.3) ...\n",
            "/sbin/ldconfig.real: /usr/local/lib/python3.7/dist-packages/ideep4py/lib/libmkldnn.so.0 is not a symbolic link\n",
            "\n"
          ]
        }
      ]
    },
    {
      "cell_type": "code",
      "source": [
        "import pandas as pd\n",
        "from sklearn import linear_model\n",
        "import tkinter as tk \n",
        "import matplotlib.pyplot as plt\n",
        "from matplotlib.backends.backend_tkagg import FigureCanvasTkAgg\n",
        "\n",
        "df = pd.read_excel(\"MAT421_ProjectDataUse.xlsx\",\"Sheet3\")\n",
        "\n",
        "\n",
        "X = df[['deaths_avg','total_vaccinations','people_vaccinated','people_fully_vaccinated','daily_people_vaccinated']]\n",
        "y = df['Average_NHL_attendance_per_day']\n",
        "\n",
        "regr = linear_model.LinearRegression()\n",
        "regr.fit(X, y)\n",
        "\n",
        "print('Intercept: \\n', regr.intercept_)\n",
        "print('Coefficients: \\n', regr.coef_)\n",
        "\n",
        "# tkinter GUI\n",
        "root= tk.Tk()\n",
        "\n",
        "canvas1 = tk.Canvas(root, width = 600, height = 600)\n",
        "canvas1.pack()\n",
        "\n",
        "# with sklearn\n",
        "Intercept_result = ('Intercept: ', regr.intercept_)\n",
        "label_Intercept = tk.Label(root, text=Intercept_result, justify = 'center')\n",
        "canvas1.create_window(300, 330, window=label_Intercept)\n",
        "\n",
        "\n",
        "# with sklearn\n",
        "Coefficients_result  = ('Coefficients: ', regr.coef_)\n",
        "label_Coefficients = tk.Label(root, text=Coefficients_result, justify = 'center')\n",
        "canvas1.create_window(300, 370, window=label_Coefficients)\n",
        "\n",
        "\n",
        "label4 = tk.Label(root, text='deaths_avg: ')\n",
        "canvas1.create_window(130, 100, window=label4)\n",
        "\n",
        "entry4 = tk.Entry (root) \n",
        "canvas1.create_window(300, 100, window=entry4)\n",
        "\n",
        "label5 = tk.Label(root, text='total_vaccinations')\n",
        "canvas1.create_window(130, 130, window=label5)\n",
        "\n",
        "entry5 = tk.Entry (root) \n",
        "canvas1.create_window(300, 130, window=entry5)\n",
        "\n",
        "label6 = tk.Label(root, text='people_vaccinated')\n",
        "canvas1.create_window(130, 160, window=label6)\n",
        "\n",
        "entry6 = tk.Entry (root) \n",
        "canvas1.create_window(300, 160, window=entry6)\n",
        "\n",
        "label7 = tk.Label(root, text='people_fully_vaccinated')\n",
        "canvas1.create_window(130, 190, window=label7)\n",
        "\n",
        "entry7 = tk.Entry (root) \n",
        "canvas1.create_window(300, 190, window=entry7)\n",
        "\n",
        "label8 = tk.Label(root, text='daily_people_vaccinated')\n",
        "canvas1.create_window(130, 220, window=label8)\n",
        "\n",
        "entry8 = tk.Entry (root) \n",
        "canvas1.create_window(300, 220, window=entry8)\n",
        "\n",
        "\n",
        "def values(): \n",
        "    \n",
        "    global new_deaths_avg \n",
        "    new_deaths_avg = float(entry4.get()) \n",
        "\n",
        "    global new_total_vaccinations \n",
        "    new_total_vaccinations = float(entry5.get()) \n",
        "    \n",
        "    global new_people_vaccinated \n",
        "    new_people_vaccinated = float(entry6.get()) \n",
        "    \n",
        "    global new_people_fully_vaccinated \n",
        "    new_people_fully_vaccinated = float(entry7.get()) \n",
        "\n",
        "    global new_daily_people_vaccinated \n",
        "    new_daily_people_vaccinated = float(entry8.get()) \n",
        "    \n",
        "    \n",
        "    Prediction_result  = ('Predicted Attendance: ', regr.predict([[new_deaths_avg,new_total_vaccinations,new_people_vaccinated,new_people_fully_vaccinated,new_daily_people_vaccinated]]))\n",
        "    label_Prediction = tk.Label(root, text= Prediction_result, bg='orange')\n",
        "    canvas1.create_window(300, 300, window=label_Prediction)\n",
        "    \n",
        "button1 = tk.Button (root, text='Predict Attendance ',command=values, bg='orange') # button to call the 'values' command above \n",
        "canvas1.create_window(300, 260, window=button1)\n",
        "\n",
        "root.mainloop()"
      ],
      "metadata": {
        "colab": {
          "base_uri": "https://localhost:8080/"
        },
        "id": "YNM0HX1k6fJO",
        "outputId": "c5d02691-ad13-4f37-ec40-6da1a79d396b"
      },
      "execution_count": null,
      "outputs": [
        {
          "output_type": "stream",
          "name": "stdout",
          "text": [
            "Intercept: \n",
            " 10391.982484273576\n",
            "Coefficients: \n",
            " [-2.72046454e+00  1.01510209e-04 -5.69998367e-04  4.50407314e-04\n",
            "  5.86044524e-03]\n"
          ]
        }
      ]
    }
  ]
}